{
 "cells": [
  {
   "cell_type": "code",
   "execution_count": 7,
   "metadata": {
    "collapsed": true
   },
   "outputs": [],
   "source": [
    "import pandas as pd\n",
    "import numpy as np\n",
    "import matplotlib.pyplot as plt\n",
    "import scipy.stats as sps\n",
    "import math\n",
    "%matplotlib inline"
   ]
  },
  {
   "cell_type": "code",
   "execution_count": 8,
   "metadata": {
    "collapsed": false
   },
   "outputs": [],
   "source": [
    "data = np.array([])\n",
    "with open('Weibull.txt', 'r' ) as f:\n",
    "    for s in f:\n",
    "        data = np.append(data, float(s))"
   ]
  },
  {
   "cell_type": "markdown",
   "metadata": {},
   "source": [
    "Плотность распределения Вейбулла: $p(x) = F'(x) = \\gamma x^{\\gamma-1} e^{-x^\\gamma}$\n",
    "Значит его логарифмическая функция правдоподобия: $l(X; \\gamma) = \\sum_{x \\in X} \\ln p(x; \\gamma) = \\sum_{x \\in X} (\\ln \\gamma + (\\gamma - 1)\\ln x - x^{\\gamma})$"
   ]
  },
  {
   "cell_type": "code",
   "execution_count": 9,
   "metadata": {
    "collapsed": false
   },
   "outputs": [],
   "source": [
    "def Lf(X, gamma) :\n",
    "    return sum([(math.log(gamma) + (gamma - 1.0) * math.log(x) \\\n",
    "                 - math.pow(x, gamma)) for x in X])"
   ]
  },
  {
   "cell_type": "code",
   "execution_count": 11,
   "metadata": {
    "collapsed": false
   },
   "outputs": [
    {
     "name": "stdout",
     "output_type": "stream",
     "text": [
      "Оценка гамма для первых 4 лет:  1.72981635921\n"
     ]
    }
   ],
   "source": [
    "sample = data[:4 * 365 + 1]  # високосный год\n",
    "grid = np.arange(-2.0, 2.001, 0.001)\n",
    "index = np.argmax([Lf(sample, math.pow(10, logGamma)) for logGamma in grid])\n",
    "print 'Оценка гамма для первых 4 лет: ' , math.pow(10, grid[index])"
   ]
  },
  {
   "cell_type": "code",
   "execution_count": 12,
   "metadata": {
    "collapsed": false
   },
   "outputs": [
    {
     "name": "stdout",
     "output_type": "stream",
     "text": [
      "Оценка гамма для всей выборки (10 лет):  1.75792361396\n"
     ]
    }
   ],
   "source": [
    "sample = data\n",
    "index = np.argmax([Lf(sample, math.pow(10, logGamma)) for logGamma in grid])\n",
    "print 'Оценка гамма для всей выборки (10 лет): ' , math.pow(10, grid[index])"
   ]
  },
  {
   "cell_type": "code",
   "execution_count": null,
   "metadata": {
    "collapsed": true
   },
   "outputs": [],
   "source": []
  }
 ],
 "metadata": {
  "kernelspec": {
   "display_name": "Python 2",
   "language": "python",
   "name": "python2"
  },
  "language_info": {
   "codemirror_mode": {
    "name": "ipython",
    "version": 2
   },
   "file_extension": ".py",
   "mimetype": "text/x-python",
   "name": "python",
   "nbconvert_exporter": "python",
   "pygments_lexer": "ipython2",
   "version": "2.7.10"
  }
 },
 "nbformat": 4,
 "nbformat_minor": 0
}
