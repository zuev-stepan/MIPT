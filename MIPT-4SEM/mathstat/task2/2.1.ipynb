{
 "cells": [
  {
   "cell_type": "code",
   "execution_count": 2,
   "metadata": {
    "collapsed": true
   },
   "outputs": [],
   "source": [
    "import pandas as pd\n",
    "import numpy as np\n",
    "import matplotlib.pyplot as plt\n",
    "import scipy.stats as sps\n",
    "import math\n",
    "%matplotlib inline"
   ]
  },
  {
   "cell_type": "code",
   "execution_count": 6,
   "metadata": {
    "collapsed": false,
    "scrolled": true
   },
   "outputs": [
    {
     "name": "stdout",
     "output_type": "stream",
     "text": [
      "1000\n"
     ]
    }
   ],
   "source": [
    "data = np.array([])\n",
    "with open('cauchy.txt', 'r') as f:\n",
    "    for s in f:\n",
    "        data = np.append(data, float(s))"
   ]
  },
  {
   "cell_type": "markdown",
   "metadata": {},
   "source": [
    "Плотность распределения Коши имееет вид: $p(x) = \\frac{\\theta}{\\pi(\\theta^{2} + (x-x_0)^2)}$\n",
    "\n",
    "Значит ее логарифмическая функция правдоподобия: $l(X; x_0) = \\sum_{x \\in X}\\ln p(x; x_0) = \\ln \\theta - \\ln \\pi - \\ln (\\theta^{2} + (x - x_0)^{2})$ "
   ]
  },
  {
   "cell_type": "code",
   "execution_count": 20,
   "metadata": {
    "collapsed": true
   },
   "outputs": [],
   "source": [
    "def Lf(X, x0):\n",
    "    return sum([(-math.log(math.pi) - math.log(1.0 + (x - x0) ** 2.0))\\\n",
    "                for x in X])"
   ]
  },
  {
   "cell_type": "code",
   "execution_count": 25,
   "metadata": {
    "collapsed": false
   },
   "outputs": [
    {
     "name": "stdout",
     "output_type": "stream",
     "text": [
      "Оценка сдвига для первых N/2 элементов:  -349.580000001\n"
     ]
    }
   ],
   "source": [
    "sample = data[:len(data) / 2]\n",
    "grid = np.arange(-1000.0, 1000.01, 0.01)\n",
    "index = np.argmax([Lf(sample, x0) for x0 in grid])\n",
    "print 'Оценка сдвига для первых N/2 элементов: ', grid[index]"
   ]
  },
  {
   "cell_type": "code",
   "execution_count": 26,
   "metadata": {
    "collapsed": false
   },
   "outputs": [
    {
     "name": "stdout",
     "output_type": "stream",
     "text": [
      "Оценка сдвига для первых N элементов:  -349.600000001\n"
     ]
    }
   ],
   "source": [
    "sample = data\n",
    "index = np.argmax([Lf(sample, x0) for x0 in grid])\n",
    "print 'Оценка сдвига для первых N элементов: ', grid[index]"
   ]
  },
  {
   "cell_type": "code",
   "execution_count": null,
   "metadata": {
    "collapsed": true
   },
   "outputs": [],
   "source": []
  }
 ],
 "metadata": {
  "kernelspec": {
   "display_name": "Python 2",
   "language": "python",
   "name": "python2"
  },
  "language_info": {
   "codemirror_mode": {
    "name": "ipython",
    "version": 2
   },
   "file_extension": ".py",
   "mimetype": "text/x-python",
   "name": "python",
   "nbconvert_exporter": "python",
   "pygments_lexer": "ipython2",
   "version": "2.7.10"
  }
 },
 "nbformat": 4,
 "nbformat_minor": 0
}
