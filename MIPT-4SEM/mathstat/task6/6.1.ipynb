{
 "cells": [
  {
   "cell_type": "code",
   "execution_count": 4,
   "metadata": {
    "collapsed": false
   },
   "outputs": [],
   "source": [
    "import pandas as pd\n",
    "import numpy as np\n",
    "import matplotlib.pyplot as plt\n",
    "import scipy.stats as sps\n",
    "import math\n",
    "import time\n",
    "%matplotlib inline"
   ]
  },
  {
   "cell_type": "code",
   "execution_count": 5,
   "metadata": {
    "collapsed": false
   },
   "outputs": [],
   "source": [
    "# Считаем данные\n",
    "data = np.array([])\n",
    "with open('servers.txt' , 'r' ) as f:\n",
    "    for s in f:\n",
    "        data = np.append(data, float(s))\n",
    "\n",
    "l = data[0]\n",
    "data = data[1:]\n",
    "t0 = 1\n",
    "t = 60"
   ]
  },
  {
   "cell_type": "markdown",
   "metadata": {},
   "source": [
    "$E(N_t - N_s) = \\lambda(t - s)$ (т.к. $N_t - N_s \\sim Pois(\\lambda(t - s))$)\n",
    "$E(N_t | N_s) = E(N_t - N_s | N_s) + E(N_s | N_s) = E(N_t - N_s) + N_s = \\lambda(t - s) + N_s$ (т.к. $N_t - N_s$ и $N_s$ независимы)"
   ]
  },
  {
   "cell_type": "code",
   "execution_count": 6,
   "metadata": {
    "collapsed": false
   },
   "outputs": [
    {
     "name": "stdout",
     "output_type": "stream",
     "text": [
      "0\t18.300000\n",
      "1\t18.995000\n",
      "2\t18.690000\n",
      "3\t18.385000\n",
      "4\t18.080000\n",
      "5\t17.775000\n",
      "6\t17.470000\n",
      "7\t17.165000\n",
      "8\t16.860000\n",
      "9\t16.555000\n",
      "10\t16.250000\n",
      "11\t16.945000\n",
      "12\t17.640000\n",
      "13\t18.335000\n",
      "14\t18.030000\n",
      "15\t17.725000\n",
      "16\t17.420000\n",
      "17\t18.115000\n",
      "18\t17.810000\n",
      "19\t17.505000\n",
      "20\t17.200000\n",
      "21\t16.895000\n",
      "22\t16.590000\n",
      "23\t16.285000\n",
      "24\t17.980000\n",
      "25\t17.675000\n",
      "26\t18.370000\n",
      "27\t18.065000\n",
      "28\t18.760000\n",
      "29\t18.455000\n",
      "30\t18.150000\n",
      "31\t18.845000\n",
      "32\t19.540000\n",
      "33\t19.235000\n",
      "34\t18.930000\n",
      "35\t19.625000\n",
      "36\t19.320000\n",
      "37\t20.015000\n",
      "38\t19.710000\n",
      "39\t19.405000\n",
      "40\t21.100000\n",
      "41\t21.795000\n",
      "42\t22.490000\n",
      "43\t22.185000\n",
      "44\t21.880000\n",
      "45\t22.575000\n",
      "46\t22.270000\n",
      "47\t21.965000\n",
      "48\t21.660000\n",
      "49\t22.355000\n",
      "50\t22.050000\n",
      "51\t21.745000\n",
      "52\t23.440000\n",
      "53\t23.135000\n",
      "54\t22.830000\n",
      "55\t23.525000\n",
      "56\t23.220000\n",
      "57\t23.915000\n",
      "58\t23.610000\n",
      "59\t23.305000\n",
      "60\t25.000000\n"
     ]
    }
   ],
   "source": [
    "Ns = 0\n",
    "for s in range(0, t + 1, t0):\n",
    "    # Будем для каждого момента времени s\n",
    "    # Пересчитывать количество сломавшихся серверов\n",
    "    while (Ns < len(data) and data[Ns] <= s):\n",
    "        Ns += 1\n",
    "        \n",
    "    # Зная его посчитаем условное матожидание\n",
    "    print('%d\\t%f' % (s, l * (t - s) + Ns))\n",
    "    time.sleep(t0)"
   ]
  },
  {
   "cell_type": "code",
   "execution_count": null,
   "metadata": {
    "collapsed": true
   },
   "outputs": [],
   "source": []
  },
  {
   "cell_type": "code",
   "execution_count": null,
   "metadata": {
    "collapsed": true
   },
   "outputs": [],
   "source": []
  }
 ],
 "metadata": {
  "kernelspec": {
   "display_name": "Python 3",
   "language": "python",
   "name": "python3"
  },
  "language_info": {
   "codemirror_mode": {
    "name": "ipython",
    "version": 3
   },
   "file_extension": ".py",
   "mimetype": "text/x-python",
   "name": "python",
   "nbconvert_exporter": "python",
   "pygments_lexer": "ipython3",
   "version": "3.4.3"
  }
 },
 "nbformat": 4,
 "nbformat_minor": 0
}
