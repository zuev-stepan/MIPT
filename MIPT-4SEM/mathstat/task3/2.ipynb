{
 "cells": [
  {
   "cell_type": "code",
   "execution_count": 13,
   "metadata": {
    "collapsed": true
   },
   "outputs": [],
   "source": [
    "import pandas as pd\n",
    "import numpy as np\n",
    "import matplotlib.pyplot as plt\n",
    "import scipy.stats as sps\n",
    "import math\n",
    "%matplotlib inline"
   ]
  },
  {
   "cell_type": "code",
   "execution_count": 14,
   "metadata": {
    "collapsed": false
   },
   "outputs": [],
   "source": [
    "# Распределение из файла для вероятности биномиального распределения\n",
    "class ForBin(sps.rv_continuous):\n",
    "    def _pdf(self, x):\n",
    "        return 3.0 / 0.463904 * (x ** 2)\n",
    "    \n",
    "# Распределение из файла для дисперсии нормального распределения\n",
    "class ForNormDisp(sps.rv_continuous):\n",
    "    def _pdf(self, x):\n",
    "        return 4.0 / 0.65219375\n",
    "\n",
    "# Для матожидания нормального распределения - встроенное Коши\n",
    "\n",
    "# Оценки для биномиального распределения\n",
    "def binEvaluation1(sample):\n",
    "    return sample.mean() / 50.0\n",
    "\n",
    "def binEvaluation2(sample):\n",
    "    return sample[0] / 50.0\n",
    "\n",
    "# Оценки для дисперсии нормального распределения\n",
    "def normEvaluationVar1(sample):\n",
    "    return (((sample - 3.0) ** 2.0) / len(sample)).sum()\n",
    "\n",
    "def normEvaluationVar2(sample):\n",
    "    return (1.0 / sample.mean() + len(sample) / (2.0 * sample.min()))\n",
    "\n",
    "# Оценки для матожидания нормального распределения\n",
    "def normEvaluationVar1(sample):\n",
    "    return sample.mean()\n",
    "\n",
    "def normEvaluationVar2(sample):\n",
    "    return sample.median()"
   ]
  },
  {
   "cell_type": "markdown",
   "metadata": {},
   "source": [
    "Плотность распределения Вейбулла: $p(x) = F'(x) = \\gamma x^{\\gamma-1} e^{-x^\\gamma}$\n",
    "Значит его логарифмическая функция правдоподобия: $l(X; \\gamma) = \\sum_{x \\in X} \\ln p(x; \\gamma) = \\sum_{x \\in X} (\\ln \\gamma + (\\gamma - 1)\\ln x - x^{\\gamma})$"
   ]
  },
  {
   "cell_type": "code",
   "execution_count": 21,
   "metadata": {
    "collapsed": false
   },
   "outputs": [],
   "source": [
    "N = 1000\n",
    "BOOTSTRAP_COUNT = 500\n",
    "\n",
    "# Биномиальное\n",
    "binDistr = sps.binom(n=50, p=ForBin(a=0.22, b=0.78).rvs())\n",
    "\n",
    "# Нормальное с неизвестной дисперсией\n",
    "normVarDistr = sps.norm(loc=3.0, scale=math.sqrt(ForNorm(a=0.25, b=0.9).rvs()))\n",
    "\n",
    "# Нормальное с неизвестным матожиданием\n",
    "normMeanDistr = sps.norm(loc=sps.cauchy(loc=-16.0).rvs(), \\\n",
    "                              scale=math.sqrt(2.1)).rvs(size=N)\n",
    "\n",
    "def showGraph(distr, evaluation):\n",
    "    sample = distr.rvs(size=N)\n",
    "    for n in range(1, N):\n",
    "        part = sample[:n]\n",
    "        \n",
    "        "
   ]
  },
  {
   "cell_type": "code",
   "execution_count": 22,
   "metadata": {
    "collapsed": false
   },
   "outputs": [],
   "source": [
    "showGraphs()"
   ]
  },
  {
   "cell_type": "code",
   "execution_count": 12,
   "metadata": {
    "collapsed": false
   },
   "outputs": [
    {
     "name": "stdout",
     "output_type": "stream",
     "text": [
      "Оценка гамма для всей выборки (10 лет):  1.75792361396\n"
     ]
    }
   ],
   "source": [
    "sample = data\n",
    "index = np.argmax([Lf(sample, math.pow(10, logGamma)) for logGamma in grid])\n",
    "print 'Оценка гамма для всей выборки (10 лет): ' , math.pow(10, grid[index])"
   ]
  },
  {
   "cell_type": "code",
   "execution_count": null,
   "metadata": {
    "collapsed": true
   },
   "outputs": [],
   "source": []
  }
 ],
 "metadata": {
  "kernelspec": {
   "display_name": "Python 2",
   "language": "python",
   "name": "python2"
  },
  "language_info": {
   "codemirror_mode": {
    "name": "ipython",
    "version": 2
   },
   "file_extension": ".py",
   "mimetype": "text/x-python",
   "name": "python",
   "nbconvert_exporter": "python",
   "pygments_lexer": "ipython2",
   "version": "2.7.10"
  }
 },
 "nbformat": 4,
 "nbformat_minor": 0
}
