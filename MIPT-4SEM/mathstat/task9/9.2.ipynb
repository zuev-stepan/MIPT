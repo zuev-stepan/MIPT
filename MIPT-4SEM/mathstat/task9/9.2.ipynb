{
 "cells": [
  {
   "cell_type": "code",
   "execution_count": 2,
   "metadata": {
    "collapsed": false
   },
   "outputs": [],
   "source": [
    "import pandas as pd\n",
    "import numpy as np\n",
    "import matplotlib.pyplot as plt\n",
    "import scipy.stats as sps\n",
    "import math\n",
    "%matplotlib inline"
   ]
  },
  {
   "cell_type": "markdown",
   "metadata": {},
   "source": [
    "Оценки наименьших квадратов:\n",
    "\n",
    "Для начального расстояния - $\\hat{\\beta_1} = X_0$\n",
    "\n",
    "Для скорости - $\\hat{\\beta_2} = \\frac{X_n - X_0}{n}$"
   ]
  },
  {
   "cell_type": "markdown",
   "metadata": {},
   "source": [
    "Несмещенная оценка для дисперсии ошибки - $\\hat{\\sigma^2} = \\frac{\\sum_{i \\in 1..n}{(X_i - X_{i - 1} - \\hat{\\beta_2})^2}}{n - 1}$\n",
    "\n",
    "Оценка дисперсии отсчета времени - $\\hat{\\sigma_t^2} = \\frac{\\hat{\\sigma^2}}{\\hat{\\beta_2}^2}$"
   ]
  },
  {
   "cell_type": "code",
   "execution_count": 3,
   "metadata": {
    "collapsed": true
   },
   "outputs": [],
   "source": [
    "X = np.array([])\n",
    "# Откроем файл и считаем расстояния\n",
    "with open(\"time.txt\", \"r\") as input:\n",
    "    for row in input:\n",
    "        X = np.append(X, float(row))"
   ]
  },
  {
   "cell_type": "code",
   "execution_count": 6,
   "metadata": {
    "collapsed": true
   },
   "outputs": [],
   "source": [
    "# Посчитаем оценки\n",
    "b1 = X[0]\n",
    "b2 = (X[-1] - X[0]) / (len(X) - 1)\n",
    "s = np.sum((X[1:] - X[:len(X) - 1] - b2) ** 2.0) / (len(X) - 2)\n",
    "st = s / (b2 ** 2.0)"
   ]
  },
  {
   "cell_type": "code",
   "execution_count": 7,
   "metadata": {
    "collapsed": false
   },
   "outputs": [
    {
     "name": "stdout",
     "output_type": "stream",
     "text": [
      "27.374799 10.8867517213 0.117195962143 0.000988817198314\n"
     ]
    }
   ],
   "source": [
    "print b1, b2, s, st"
   ]
  },
  {
   "cell_type": "code",
   "execution_count": 8,
   "metadata": {
    "collapsed": true
   },
   "outputs": [],
   "source": [
    "with open(\"495 Зуев Степан.txt\", \"w\") as output:\n",
    "    output.write(str(b1) + \" \" + str(b2) + \" \" + str(s) + \" \" + str(st))\n",
    "    output.close()"
   ]
  },
  {
   "cell_type": "markdown",
   "metadata": {},
   "source": [
    "Как видим, дисперсии существенно меньше значений, что говорит о том, что оценки будут слабо отличатся от реальных значений."
   ]
  }
 ],
 "metadata": {
  "kernelspec": {
   "display_name": "Python 2",
   "language": "python",
   "name": "python2"
  },
  "language_info": {
   "codemirror_mode": {
    "name": "ipython",
    "version": 2
   },
   "file_extension": ".py",
   "mimetype": "text/x-python",
   "name": "python",
   "nbconvert_exporter": "python",
   "pygments_lexer": "ipython2",
   "version": "2.7.11"
  }
 },
 "nbformat": 4,
 "nbformat_minor": 0
}
